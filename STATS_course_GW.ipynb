{
  "nbformat": 4,
  "nbformat_minor": 0,
  "metadata": {
    "kernelspec": {
      "display_name": "Python 3",
      "language": "python",
      "name": "python3"
    },
    "language_info": {
      "codemirror_mode": {
        "name": "ipython",
        "version": 3
      },
      "file_extension": ".py",
      "mimetype": "text/x-python",
      "name": "python",
      "nbconvert_exporter": "python",
      "pygments_lexer": "ipython3",
      "version": "3.8.3"
    },
    "colab": {
      "name": "STATS_course_GW.ipynb",
      "provenance": [],
      "collapsed_sections": [],
      "include_colab_link": true
    }
  },
  "cells": [
    {
      "cell_type": "markdown",
      "metadata": {
        "id": "view-in-github",
        "colab_type": "text"
      },
      "source": [
        "<a href=\"https://colab.research.google.com/github/Figaero/Canada_Student_Statistics_Tuition_Enrollment/blob/main/STATS_course_GW.ipynb\" target=\"_parent\"><img src=\"https://colab.research.google.com/assets/colab-badge.svg\" alt=\"Open In Colab\"/></a>"
      ]
    },
    {
      "cell_type": "markdown",
      "metadata": {
        "id": "sQCxjWz9ncEK"
      },
      "source": [
        "Year value is year starting school year.\n",
        "That is 1992 = 1992/1993\n",
        "\n",
        "Tuition is in Canadian Dollars\n",
        "Enrollement/Graduation is number of students"
      ]
    },
    {
      "cell_type": "markdown",
      "metadata": {
        "id": "k7e85xqkSlIA"
      },
      "source": [
        "Business case:\n",
        "\n",
        "A non-profit company is looking to offer scholarship programs for international and canadian students looking to attend post secondary institutions.\n",
        "\n",
        "They need to understand enrollment levels and how tuition has changed and/or impacted this. They also need to understand graduation levels.\n",
        "\n",
        "Using available data, explore any changes or unique situations that might impact the company.\n",
        "\n",
        "- Is tuition change affecting enrollment and graduation\n",
        "- Note periods of significant change in any factor and explore why/what caused it\n",
        "- Put a per dollar value on the amount of money lost due to the difference in enrollement and graduation\n",
        "- Using a 4 year rolling period, assume how many enrolled students graduate on track. Use that average and enrollment per grad each year to compare how much money is spent to get one post sec credential individual out into the labour force.\n",
        "- Using this number, if you can provide a service and scholarship that helps close this gap or improve these numbers, you can give a dollar value of how much money you might save students"
      ]
    },
    {
      "cell_type": "markdown",
      "metadata": {
        "id": "24s6KMDtPDqi"
      },
      "source": [
        "Use this article as a reference point to complete analysis\n",
        "\n",
        "https://www150.statcan.gc.ca/n1/daily-quotidien/201125/dq201125e-eng.htm"
      ]
    },
    {
      "cell_type": "markdown",
      "metadata": {
        "id": "xtLnWSOOSdIM"
      },
      "source": [
        "**Conclusion based on Data:**\n",
        "\n"
      ]
    },
    {
      "cell_type": "code",
      "metadata": {
        "id": "bPBV-bMtncEP"
      },
      "source": [
        "import numpy as np\n",
        "import pandas as pd\n",
        "import glob\n",
        "import os\n",
        "import matplotlib.pyplot as plt\n",
        "from google.colab import drive\n",
        "from pathlib import Path"
      ],
      "execution_count": null,
      "outputs": []
    },
    {
      "cell_type": "code",
      "metadata": {
        "colab": {
          "base_uri": "https://localhost:8080/"
        },
        "id": "_GhUHloS-QG3",
        "outputId": "77245188-390d-4774-8073-0d3dc835fde4"
      },
      "source": [
        "#To mount drive (Only need to use it once)\n",
        "drive.mount('/content/drive')"
      ],
      "execution_count": null,
      "outputs": [
        {
          "output_type": "stream",
          "text": [
            "Mounted at /content/drive\n"
          ],
          "name": "stdout"
        }
      ]
    },
    {
      "cell_type": "code",
      "metadata": {
        "id": "njPGequZncEQ"
      },
      "source": [
        "path = r'/content/drive/MyDrive/Statistics Canada Code/Stats Canada'                  # use your path\n",
        "all_files = glob.glob(os.path.join(path, \"*.csv\"))     # advisable to use os.path.join as this makes concatenation OS independent\n",
        "\n",
        "df_dict = {}\n",
        "\n",
        "for file in all_files:\n",
        "    # Getting the file name without extension\n",
        "    file_name = os.path.splitext(os.path.basename(file))[0]\n",
        "    # Reading the file content to create a DataFrame\n",
        "    df_dict[file_name]= pd.read_csv(file)\n",
        "    # Setting the file name (without extension) as the index name\n",
        "    df_dict[file_name].index.name = file_name\n"
      ],
      "execution_count": null,
      "outputs": []
    },
    {
      "cell_type": "markdown",
      "metadata": {
        "id": "WhJBZgjtncEQ"
      },
      "source": [
        "<h4>Data Cleaning and Merging"
      ]
    },
    {
      "cell_type": "code",
      "metadata": {
        "id": "2QL_OMZwncER"
      },
      "source": [
        "###################################\n",
        "\n",
        "tuition_fees = pd.DataFrame(df_dict['Canadian and international tuition fees by level of study'].iloc[:5])\n",
        "postsec_grad = df_dict['Postsecondary graduates, by field of study, program type, credential type, and gender'].iloc[:2]\n",
        "postsec_enrol = df_dict['Postsecondary_enrolments_by_field_of_study_registration_status_program_type_credential_type_and_gender'].iloc[:1]\n",
        "tuitionbtw_92to06 = df_dict['Canadian and international tuition fees by level of study, 1972:1973 to 2006:2007'].iloc[:6]\n",
        "\n",
        "tuitionbtw_92to06 = tuitionbtw_92to06.rename(columns=tuitionbtw_92to06.iloc[0]).drop(tuitionbtw_92to06.index[0])\n",
        "tuition_fees = tuition_fees.drop(list(tuition_fees)[:2],axis=1).reset_index()\n",
        "tuition_fees = tuition_fees.drop(columns = ['Canadian and international tuition fees by level of study'])\n",
        "tuition_fees = tuition_fees.drop([0]).reset_index()\n",
        "\n",
        "postsec_grad.drop(list(postsec_grad)[:1],axis=1)\n",
        "postsec_enrol.drop(list(postsec_enrol)[:1],axis=1)\n",
        "\n",
        "tuitionbtw_92to06 = tuitionbtw_92to06.drop(list(tuitionbtw_92to06)[:0],axis=1)\n",
        "tuitionbtw_92to06 = tuitionbtw_92to06.dropna().reset_index()\n",
        "\n",
        "postsec_grad = postsec_grad.iloc[1:].set_index('Field of study 6')\n",
        "postsec_enrol = postsec_enrol.set_index('Field of study')\n",
        "\n",
        "\n",
        "column_name = tuition_fees.columns.values\n",
        "column_names = list(column_name[2:])\n",
        "\n",
        "###################################\n",
        "\n",
        "tuition = pd.concat([tuitionbtw_92to06, tuition_fees[column_names]], axis=1)\n",
        "tuition = tuition.set_index('Level of study')\n",
        "tuition = tuition.drop(columns = ['Canadian and international tuition fees by level of study, 1972:1973 to 2006:2007'])\n",
        "\n",
        "###################################\n",
        "\n",
        "def split_string(word):\n",
        "    splited = word.split(\" \",1)\n",
        "    substring = splited[0]\n",
        "    return substring\n",
        "\n",
        "enrol = list(postsec_enrol.columns)\n",
        "money = list(tuition.columns)\n",
        "\n",
        "new_columns = []\n",
        "new_money = []\n",
        "for i in enrol:\n",
        "    new_columns.append(split_string(i))\n",
        "    \n",
        "for i in money:\n",
        "    new_money.append(split_string(i))\n",
        "\n",
        "tuition.rename(columns={i:j for i,j in zip(money,new_money)}, inplace=True)\n",
        "\n",
        "postsec_enrol.rename(columns={i:j for i,j in zip(enrol,new_columns)}, inplace=True)\n",
        "\n",
        "###################################\n",
        "\n",
        "postsec = postsec_enrol.append(postsec_grad.iloc[0])\n",
        "postsec = postsec.reset_index().drop(['Field of study'], axis=1)\n",
        "new_col = ['Enrollment (Count)','Graduation (Count)']\n",
        "postsec.insert(loc=0, column='Row ID', value=new_col)\n",
        "\n",
        "tuition = tuition.reset_index().rename(columns={'Level of study': 'Row ID'})\n",
        "\n",
        "###################################\n",
        "#adding new row of tuition year\n",
        "new_fee = df_dict['Canadian and international tuition fees_2018to2020test']\n",
        "tuition['2018'] = new_fee['2018']\n",
        "tuition['2019'] = new_fee['2019']\n",
        "tuition['2020'] = new_fee['2020']\n",
        "\n",
        "all_ds = postsec.append(tuition,ignore_index=True)\n",
        "all_ds['Row ID'] = all_ds['Row ID'].str.replace('graduate', 'graduate($)')\n",
        "\n",
        "###################################\n",
        "all_ds = all_ds.replace(',','',regex=True)\n",
        "\n",
        "tuition = tuition.replace(',','',regex=True)\n",
        "postsec = postsec.replace(',','',regex=True)\n",
        "\n",
        "#####################################################\n",
        "stu_stat = df_dict['Postsecondary_enrolments_by_status_of_studenttest'].reset_index().drop(['Postsecondary_enrolments_by_status_of_studenttest'], axis=1)\n",
        "\n",
        "#Transposing table\n",
        "postsec_t = postsec.T\n",
        "tuition_t = tuition.T\n",
        "\n",
        "new_header = tuition_t.iloc[0]\n",
        "tuition_t = tuition_t[1:]\n",
        "tuition_t.columns = new_header\n",
        "tuition_t = tuition_t.apply(pd.to_numeric)\n",
        "\n",
        "\n",
        "tuition_new = tuition_t.copy()\n",
        "tuition_new['Undergrad_int_per_Cad'] = tuition_new['International undergraduate']/tuition_new['Canadian undergraduate']\n",
        "tuition_new['Grad_int_per_Cad'] = tuition_new['International graduate']/tuition_new['Canadian graduate']\n",
        "\n",
        "\n",
        "new = postsec_t.iloc[0]\n",
        "postsec_t = postsec_t[1:]\n",
        "postsec_t.columns = new\n",
        "postsec_t = postsec_t.apply(pd.to_numeric)\n",
        "\n",
        "postsec_new = postsec_t.copy()\n",
        "postsec_new['Enrolled_student_per_graduate'] = postsec_new['Enrollment (Count)']/postsec_new['Graduation (Count)']\n",
        "postsec_desc = postsec_new.describe(include='all')\n",
        "\n",
        "\n",
        "stu = stu_stat.T\n",
        "new_head = stu.iloc[0]\n",
        "stu = stu[1:]\n",
        "stu.columns = new_head\n",
        "stu = stu.apply(pd.to_numeric)\n",
        "sum_column = stu['Canadian students'] + stu['International Students'] + stu['Not reported, status of student in Canada']\n",
        "stu['Total'] =  sum_column\n",
        "\n",
        "###################################################\n",
        "ratio = stu.copy()\n",
        "ratio = ratio.apply(pd.to_numeric)\n",
        "ratio['cad_enrol_per_total'] = ratio['Canadian students']/ratio['Total']\n",
        "ratio['int_enrol_per_total'] = ratio['International Students']/ratio['Total']\n",
        "ratio['unverified_enrol_per_total'] = ratio['Not reported, status of student in Canada']/ratio['Total']\n",
        "ratio['Total_ratio'] = ratio['Total']/ratio['Total']\n",
        "\n",
        "ratio = ratio.drop(columns = ['Canadian students','International Students','Not reported, status of student in Canada','Total'])"
      ],
      "execution_count": null,
      "outputs": []
    },
    {
      "cell_type": "code",
      "metadata": {
        "id": "RhMKcv-oGEy5"
      },
      "source": [
        "stu\n",
        "#Use this to guage how many students are enrolled based on status and use ratio to compare graduation and how much is spent in tuition"
      ],
      "execution_count": null,
      "outputs": []
    },
    {
      "cell_type": "markdown",
      "metadata": {
        "id": "4bJFnKNIncER"
      },
      "source": [
        "tuition.to_csv('canada_tuition.csv',encoding='utf-8', index=False)\n",
        "postsec.to_csv('postsec_stats.csv',encoding='utf-8', index=False)"
      ]
    },
    {
      "cell_type": "markdown",
      "metadata": {
        "id": "szTUFnZZncES"
      },
      "source": [
        "<h2> Exploratory Data Analysis"
      ]
    },
    {
      "cell_type": "markdown",
      "metadata": {
        "id": "lQFnNk-lncEV"
      },
      "source": [
        "Questions to answer:\n",
        "Tuition\n",
        " - Rate of change between each tuition level (Canadian, International, Undergrad, Grad, CanadianVSInternational)\n",
        " - Explore why there was a drop (and what year) in tuition for graduate students\n",
        " - Explore how the blips in each tuition type affected enrollement during that same time period\n",
        " \n",
        "Enrollement/Graduation\n",
        "- Rate of change between Enrollement and Graduation, Graduation seems to have steadied while enrollement has been sporadic\n",
        "- Compare the change in tuition during the same time period as this sporadic change to see if it may have impacted enrollement.\n",
        "\n",
        "Run one sample t-test to check the increase or decrease in enrollment, graduation and tuition\n",
        "- Run Student T-test to test hypothesis for enrollement/Graduation data\n",
        "- Run a one-way ANOVA test on Tuition data\n",
        "- Run a MANOVA on if tuition impacts enrollement (run using average tuition)"
      ]
    },
    {
      "cell_type": "code",
      "metadata": {
        "collapsed": true,
        "colab": {
          "base_uri": "https://localhost:8080/",
          "height": 297
        },
        "id": "bcHzQdkdncES",
        "outputId": "a12459be-50b5-49a5-fdfd-d283ee91a324"
      },
      "source": [
        "tuition_desc = tuition_new.describe(include='all')\n",
        "tuition_desc.round(1)"
      ],
      "execution_count": null,
      "outputs": [
        {
          "output_type": "execute_result",
          "data": {
            "text/html": [
              "<div>\n",
              "<style scoped>\n",
              "    .dataframe tbody tr th:only-of-type {\n",
              "        vertical-align: middle;\n",
              "    }\n",
              "\n",
              "    .dataframe tbody tr th {\n",
              "        vertical-align: top;\n",
              "    }\n",
              "\n",
              "    .dataframe thead th {\n",
              "        text-align: right;\n",
              "    }\n",
              "</style>\n",
              "<table border=\"1\" class=\"dataframe\">\n",
              "  <thead>\n",
              "    <tr style=\"text-align: right;\">\n",
              "      <th>Row ID</th>\n",
              "      <th>Canadian undergraduate</th>\n",
              "      <th>Canadian graduate</th>\n",
              "      <th>International undergraduate</th>\n",
              "      <th>International graduate</th>\n",
              "      <th>Undergrad_int_per_Cad</th>\n",
              "      <th>Grad_int_per_Cad</th>\n",
              "    </tr>\n",
              "  </thead>\n",
              "  <tbody>\n",
              "    <tr>\n",
              "      <th>count</th>\n",
              "      <td>29.0</td>\n",
              "      <td>29.0</td>\n",
              "      <td>29.0</td>\n",
              "      <td>29.0</td>\n",
              "      <td>29.0</td>\n",
              "      <td>29.0</td>\n",
              "    </tr>\n",
              "    <tr>\n",
              "      <th>mean</th>\n",
              "      <td>4446.2</td>\n",
              "      <td>5003.6</td>\n",
              "      <td>15139.1</td>\n",
              "      <td>11695.7</td>\n",
              "      <td>3.3</td>\n",
              "      <td>2.4</td>\n",
              "    </tr>\n",
              "    <tr>\n",
              "      <th>std</th>\n",
              "      <td>1536.5</td>\n",
              "      <td>1711.9</td>\n",
              "      <td>7373.4</td>\n",
              "      <td>3557.3</td>\n",
              "      <td>0.5</td>\n",
              "      <td>0.4</td>\n",
              "    </tr>\n",
              "    <tr>\n",
              "      <th>min</th>\n",
              "      <td>1872.0</td>\n",
              "      <td>1932.0</td>\n",
              "      <td>6221.0</td>\n",
              "      <td>6397.0</td>\n",
              "      <td>2.7</td>\n",
              "      <td>2.0</td>\n",
              "    </tr>\n",
              "    <tr>\n",
              "      <th>25%</th>\n",
              "      <td>3328.0</td>\n",
              "      <td>3601.0</td>\n",
              "      <td>9061.0</td>\n",
              "      <td>8640.0</td>\n",
              "      <td>2.9</td>\n",
              "      <td>2.2</td>\n",
              "    </tr>\n",
              "    <tr>\n",
              "      <th>50%</th>\n",
              "      <td>4347.0</td>\n",
              "      <td>5448.0</td>\n",
              "      <td>13205.0</td>\n",
              "      <td>12337.0</td>\n",
              "      <td>3.3</td>\n",
              "      <td>2.3</td>\n",
              "    </tr>\n",
              "    <tr>\n",
              "      <th>75%</th>\n",
              "      <td>5767.0</td>\n",
              "      <td>6295.0</td>\n",
              "      <td>19416.0</td>\n",
              "      <td>13490.0</td>\n",
              "      <td>3.4</td>\n",
              "      <td>2.5</td>\n",
              "    </tr>\n",
              "    <tr>\n",
              "      <th>max</th>\n",
              "      <td>6822.0</td>\n",
              "      <td>7388.0</td>\n",
              "      <td>32019.0</td>\n",
              "      <td>19252.0</td>\n",
              "      <td>4.9</td>\n",
              "      <td>3.4</td>\n",
              "    </tr>\n",
              "  </tbody>\n",
              "</table>\n",
              "</div>"
            ],
            "text/plain": [
              "Row ID  Canadian undergraduate  ...  Grad_int_per_Cad\n",
              "count                     29.0  ...              29.0\n",
              "mean                    4446.2  ...               2.4\n",
              "std                     1536.5  ...               0.4\n",
              "min                     1872.0  ...               2.0\n",
              "25%                     3328.0  ...               2.2\n",
              "50%                     4347.0  ...               2.3\n",
              "75%                     5767.0  ...               2.5\n",
              "max                     6822.0  ...               3.4\n",
              "\n",
              "[8 rows x 6 columns]"
            ]
          },
          "metadata": {
            "tags": []
          },
          "execution_count": 7
        }
      ]
    },
    {
      "cell_type": "code",
      "metadata": {
        "colab": {
          "base_uri": "https://localhost:8080/",
          "height": 282
        },
        "id": "SQdQ9JFMncEU",
        "outputId": "97f79946-4347-4cf3-f337-67e56fbdc757"
      },
      "source": [
        "tuition_t.plot.line()"
      ],
      "execution_count": null,
      "outputs": [
        {
          "output_type": "execute_result",
          "data": {
            "text/plain": [
              "<matplotlib.axes._subplots.AxesSubplot at 0x7fdb8f655d50>"
            ]
          },
          "metadata": {
            "tags": []
          },
          "execution_count": 9
        },
        {
          "output_type": "display_data",
          "data": {
            "image/png": "[encoded data removed]",
            "text/plain": [
              "<Figure size 432x288 with 1 Axes>"
            ]
          },
          "metadata": {
            "tags": [],
            "needs_background": "light"
          }
        }
      ]
    },
    {
      "cell_type": "code",
      "metadata": {
        "colab": {
          "base_uri": "https://localhost:8080/",
          "height": 286
        },
        "id": "qKvqNI8d5CoA",
        "outputId": "f42d20d7-46f6-4130-b684-4c6e6caedd04"
      },
      "source": [
        "#Visualization of ratio for international student tuition and Canadian tuition\n",
        "tuition_new[['Undergrad_int_per_Cad','Grad_int_per_Cad']].plot.line()"
      ],
      "execution_count": null,
      "outputs": [
        {
          "output_type": "execute_result",
          "data": {
            "text/plain": [
              "<matplotlib.axes._subplots.AxesSubplot at 0x7fdb8f565410>"
            ]
          },
          "metadata": {
            "tags": []
          },
          "execution_count": 10
        },
        {
          "output_type": "display_data",
          "data": {
            "image/png": "[encoded data removed]",
            "text/plain": [
              "<Figure size 432x288 with 1 Axes>"
            ]
          },
          "metadata": {
            "tags": [],
            "needs_background": "light"
          }
        }
      ]
    },
    {
      "cell_type": "markdown",
      "metadata": {
        "id": "4ngBsw1xncET"
      },
      "source": [
        "Elaborate on this\n",
        "\n",
        "29 years worth of data of average tuition across canada for each education level\n",
        "\n",
        "- Average international undergraduate level student paid 3.3 times what a Canadian would pay while the graduate level equivalent was 2.4. This has gone up consisitenly since 2012 and is currently at its highest point ever (4.9 times the canadian equivalent)\n",
        "\n",
        "- The Standard deviation shows that the international undergraduate fees have a much wider difference between values\n",
        "\n",
        "- The difference between quantiles in the canadian tuition levels and international graduate level is consistent while the International undergraduate level values are sporadic\n",
        "\n",
        "- Graduate tuition category is the only group to experience a drop in cost of tuition.\n",
        "\n",
        "- Disparity between undergradute and graduate tuition for international students has grown immensly, especially when compared to the rate of increase between the Canadian equivalent. Could there be a reason?\n",
        "\n",
        "- International Undergraduate tuition has risen at a much higher rate compared to the other types.\n",
        "\n",
        "- When compared to the canadian equivalent, International undergrad tuition cost has risen at a higher rate consistently since 2000 while international graduate tuition has stayed within the same rate of increase to its canadian equivalent. Both experienced a sharp decline in the late 90s"
      ]
    },
    {
      "cell_type": "code",
      "metadata": {
        "colab": {
          "base_uri": "https://localhost:8080/",
          "height": 293
        },
        "id": "JdGsIFNCncEU",
        "outputId": "5a104344-463d-4533-8a06-df0e7ed1ca2e"
      },
      "source": [
        "#Visualization of count of enrollment and graduated student per year\n",
        "postsec_t.plot.line()"
      ],
      "execution_count": null,
      "outputs": [
        {
          "output_type": "execute_result",
          "data": {
            "text/plain": [
              "<matplotlib.axes._subplots.AxesSubplot at 0x7fdb8f09a750>"
            ]
          },
          "metadata": {
            "tags": []
          },
          "execution_count": 11
        },
        {
          "output_type": "display_data",
          "data": {
            "image/png": "[encoded data removed]",
            "text/plain": [
              "<Figure size 432x288 with 1 Axes>"
            ]
          },
          "metadata": {
            "tags": [],
            "needs_background": "light"
          }
        }
      ]
    },
    {
      "cell_type": "code",
      "metadata": {
        "colab": {
          "base_uri": "https://localhost:8080/",
          "height": 282
        },
        "id": "aXYB2Inf5D7w",
        "outputId": "839e7a0a-bc9e-4e0a-cdb6-452aab8c31f2"
      },
      "source": [
        "#Visualization of ratio of enrolled students per graduated student in the same year\n",
        "postsec_new['Enrolled_student_per_graduate'].plot.line()"
      ],
      "execution_count": null,
      "outputs": [
        {
          "output_type": "execute_result",
          "data": {
            "text/plain": [
              "<matplotlib.axes._subplots.AxesSubplot at 0x7fdb8f01f490>"
            ]
          },
          "metadata": {
            "tags": []
          },
          "execution_count": 12
        },
        {
          "output_type": "display_data",
          "data": {
            "image/png": "[encoded data removed]",
            "text/plain": [
              "<Figure size 432x288 with 1 Axes>"
            ]
          },
          "metadata": {
            "tags": [],
            "needs_background": "light"
          }
        }
      ]
    },
    {
      "cell_type": "code",
      "metadata": {
        "colab": {
          "base_uri": "https://localhost:8080/",
          "height": 298
        },
        "id": "SwkiN-SlquMV",
        "outputId": "5310e464-92ef-4e8b-ea57-499a5f624b74"
      },
      "source": [
        "#Visualization of ratio for enrollment data in relation to student status compared to total number of enrolled students\n",
        "ratio[['int_enrol_per_total','cad_enrol_per_total','unverified_enrol_per_total']].plot.bar(stacked=True)"
      ],
      "execution_count": null,
      "outputs": [
        {
          "output_type": "execute_result",
          "data": {
            "text/plain": [
              "<matplotlib.axes._subplots.AxesSubplot at 0x7fdb8ef20850>"
            ]
          },
          "metadata": {
            "tags": []
          },
          "execution_count": 13
        },
        {
          "output_type": "display_data",
          "data": {
            "image/png": "[encoded data removed]",
            "text/plain": [
              "<Figure size 432x288 with 1 Axes>"
            ]
          },
          "metadata": {
            "tags": [],
            "needs_background": "light"
          }
        }
      ]
    },
    {
      "cell_type": "markdown",
      "metadata": {
        "id": "xFYZwvm4ncEV"
      },
      "source": [
        "Expand on this:\n",
        "\n",
        "- More students are graduating from schools when compared to the number of students being enrolled in the same year.\n",
        "- The percentage of International students as part of the total number of students enrolled in post seconschools has doubled since 2008, currently sitting at 16%."
      ]
    },
    {
      "cell_type": "code",
      "metadata": {
        "id": "GeDZm05KncEW"
      },
      "source": [
        "#Calculate percentage change in columns\n",
        "\n",
        "diff = tuition.set_index(['Row ID'])\n",
        "diff = diff.astype('int')\n",
        "different = diff.pct_change(axis=1)\n",
        "different = different.T\n",
        "\n",
        "post = postsec.set_index(['Row ID'])\n",
        "post = post.astype('int')\n",
        "posted = post.pct_change(axis=1)\n",
        "posted = posted.T\n",
        "\n",
        "status = stu_stat.set_index(['Row Labels'])\n",
        "status = status.astype('int')\n",
        "status = status.pct_change(axis=1).T"
      ],
      "execution_count": null,
      "outputs": []
    },
    {
      "cell_type": "code",
      "metadata": {
        "colab": {
          "base_uri": "https://localhost:8080/",
          "height": 300
        },
        "id": "NJwEtarTncEW",
        "outputId": "1eabc9b7-e7b4-4e39-833d-21adea430217"
      },
      "source": [
        "#Percentage rate of change for Canadian status student tuition data\n",
        "different[['Canadian graduate','Canadian undergraduate']].plot.bar()"
      ],
      "execution_count": null,
      "outputs": [
        {
          "output_type": "execute_result",
          "data": {
            "text/plain": [
              "<matplotlib.axes._subplots.AxesSubplot at 0x7fdb8ebd99d0>"
            ]
          },
          "metadata": {
            "tags": []
          },
          "execution_count": 18
        },
        {
          "output_type": "display_data",
          "data": {
            "image/png": "[encoded data removed]",
            "text/plain": [
              "<Figure size 432x288 with 1 Axes>"
            ]
          },
          "metadata": {
            "tags": [],
            "needs_background": "light"
          }
        }
      ]
    },
    {
      "cell_type": "code",
      "metadata": {
        "colab": {
          "base_uri": "https://localhost:8080/",
          "height": 298
        },
        "id": "h8vWeVRfHW1n",
        "outputId": "2d4a5461-3620-4e87-c71a-186ab6dbf4e3"
      },
      "source": [
        "#Percentage rate of change for international status student tuition data\n",
        "different[['International graduate','International undergraduate']].plot.bar()"
      ],
      "execution_count": null,
      "outputs": [
        {
          "output_type": "execute_result",
          "data": {
            "text/plain": [
              "<matplotlib.axes._subplots.AxesSubplot at 0x7fc2e1840ed0>"
            ]
          },
          "metadata": {
            "tags": []
          },
          "execution_count": 19
        },
        {
          "output_type": "display_data",
          "data": {
            "image/png": "[encoded data removed]",
            "text/plain": [
              "<Figure size 432x288 with 1 Axes>"
            ]
          },
          "metadata": {
            "tags": [],
            "needs_background": "light"
          }
        }
      ]
    },
    {
      "cell_type": "code",
      "metadata": {
        "colab": {
          "base_uri": "https://localhost:8080/",
          "height": 297
        },
        "id": "QhESI0ROHW88",
        "outputId": "5e553b4a-0828-4c38-c64f-90f931ab17e4"
      },
      "source": [
        "#Descriptive statistics for tuition data percentage change\n",
        "done = different.describe(include='all')\n",
        "done.round(2)"
      ],
      "execution_count": null,
      "outputs": [
        {
          "output_type": "execute_result",
          "data": {
            "text/html": [
              "<div>\n",
              "<style scoped>\n",
              "    .dataframe tbody tr th:only-of-type {\n",
              "        vertical-align: middle;\n",
              "    }\n",
              "\n",
              "    .dataframe tbody tr th {\n",
              "        vertical-align: top;\n",
              "    }\n",
              "\n",
              "    .dataframe thead th {\n",
              "        text-align: right;\n",
              "    }\n",
              "</style>\n",
              "<table border=\"1\" class=\"dataframe\">\n",
              "  <thead>\n",
              "    <tr style=\"text-align: right;\">\n",
              "      <th>Row ID</th>\n",
              "      <th>Canadian undergraduate</th>\n",
              "      <th>Canadian graduate</th>\n",
              "      <th>International undergraduate</th>\n",
              "      <th>International graduate</th>\n",
              "    </tr>\n",
              "  </thead>\n",
              "  <tbody>\n",
              "    <tr>\n",
              "      <th>count</th>\n",
              "      <td>28.00</td>\n",
              "      <td>28.00</td>\n",
              "      <td>28.00</td>\n",
              "      <td>28.00</td>\n",
              "    </tr>\n",
              "    <tr>\n",
              "      <th>mean</th>\n",
              "      <td>0.05</td>\n",
              "      <td>0.05</td>\n",
              "      <td>0.06</td>\n",
              "      <td>0.04</td>\n",
              "    </tr>\n",
              "    <tr>\n",
              "      <th>std</th>\n",
              "      <td>0.03</td>\n",
              "      <td>0.07</td>\n",
              "      <td>0.03</td>\n",
              "      <td>0.06</td>\n",
              "    </tr>\n",
              "    <tr>\n",
              "      <th>min</th>\n",
              "      <td>-0.05</td>\n",
              "      <td>-0.15</td>\n",
              "      <td>-0.02</td>\n",
              "      <td>-0.14</td>\n",
              "    </tr>\n",
              "    <tr>\n",
              "      <th>25%</th>\n",
              "      <td>0.03</td>\n",
              "      <td>0.02</td>\n",
              "      <td>0.05</td>\n",
              "      <td>0.02</td>\n",
              "    </tr>\n",
              "    <tr>\n",
              "      <th>50%</th>\n",
              "      <td>0.04</td>\n",
              "      <td>0.06</td>\n",
              "      <td>0.06</td>\n",
              "      <td>0.05</td>\n",
              "    </tr>\n",
              "    <tr>\n",
              "      <th>75%</th>\n",
              "      <td>0.07</td>\n",
              "      <td>0.10</td>\n",
              "      <td>0.08</td>\n",
              "      <td>0.07</td>\n",
              "    </tr>\n",
              "    <tr>\n",
              "      <th>max</th>\n",
              "      <td>0.11</td>\n",
              "      <td>0.14</td>\n",
              "      <td>0.12</td>\n",
              "      <td>0.15</td>\n",
              "    </tr>\n",
              "  </tbody>\n",
              "</table>\n",
              "</div>"
            ],
            "text/plain": [
              "Row ID  Canadian undergraduate  ...  International graduate\n",
              "count                    28.00  ...                   28.00\n",
              "mean                      0.05  ...                    0.04\n",
              "std                       0.03  ...                    0.06\n",
              "min                      -0.05  ...                   -0.14\n",
              "25%                       0.03  ...                    0.02\n",
              "50%                       0.04  ...                    0.05\n",
              "75%                       0.07  ...                    0.07\n",
              "max                       0.11  ...                    0.15\n",
              "\n",
              "[8 rows x 4 columns]"
            ]
          },
          "metadata": {
            "tags": []
          },
          "execution_count": 23
        }
      ]
    },
    {
      "cell_type": "markdown",
      "metadata": {
        "id": "5b5TWxctMLUH"
      },
      "source": [
        "Ignoring potential outliers, tuition for international students seems to have increased at the only marginally higher percentage compared to canadian tuition. This marginal change has been larger enough to be affect the cost of tuition "
      ]
    },
    {
      "cell_type": "code",
      "metadata": {
        "colab": {
          "base_uri": "https://localhost:8080/",
          "height": 298
        },
        "id": "H_G0ltThHW4W",
        "outputId": "e79391a8-0f88-4403-940e-1c32df7e0f03"
      },
      "source": [
        "#Percentage rate of change for enrollement and graduation together.\n",
        "posted[['Enrollment (Count)','Graduation (Count)']].plot.bar()"
      ],
      "execution_count": null,
      "outputs": [
        {
          "output_type": "execute_result",
          "data": {
            "text/plain": [
              "<matplotlib.axes._subplots.AxesSubplot at 0x7fc2e1590050>"
            ]
          },
          "metadata": {
            "tags": []
          },
          "execution_count": 20
        },
        {
          "output_type": "display_data",
          "data": {
            "image/png": "[encoded data removed]",
            "text/plain": [
              "<Figure size 432x288 with 1 Axes>"
            ]
          },
          "metadata": {
            "tags": [],
            "needs_background": "light"
          }
        }
      ]
    },
    {
      "cell_type": "code",
      "metadata": {
        "colab": {
          "base_uri": "https://localhost:8080/",
          "height": 1000
        },
        "id": "pJBl4ArnHW60",
        "outputId": "09d59d15-aaa8-4cd1-a73c-c88804b2e692"
      },
      "source": [
        "#Percentage rate of change for tuition per year\n",
        "for i, col in enumerate(different.columns):\n",
        "    different[col].plot.bar(fig=plt.figure(i))\n",
        "    plt.title(col)\n",
        "\n",
        "plt.show()"
      ],
      "execution_count": null,
      "outputs": [
        {
          "output_type": "display_data",
          "data": {
            "image/png": "[encoded data removed]",
            "text/plain": [
              "<Figure size 432x288 with 1 Axes>"
            ]
          },
          "metadata": {
            "tags": [],
            "needs_background": "light"
          }
        },
        {
          "output_type": "display_data",
          "data": {
            "image/png": "[encoded data removed]",
            "text/plain": [
              "<Figure size 432x288 with 1 Axes>"
            ]
          },
          "metadata": {
            "tags": [],
            "needs_background": "light"
          }
        },
        {
          "output_type": "display_data",
          "data": {
            "image/png": "[encoded data removed]",
            "text/plain": [
              "<Figure size 432x288 with 1 Axes>"
            ]
          },
          "metadata": {
            "tags": [],
            "needs_background": "light"
          }
        },
        {
          "output_type": "display_data",
          "data": {
            "image/png": "[encoded data removed]",
            "text/plain": [
              "<Figure size 432x288 with 1 Axes>"
            ]
          },
          "metadata": {
            "tags": [],
            "needs_background": "light"
          }
        }
      ]
    },
    {
      "cell_type": "code",
      "metadata": {
        "colab": {
          "base_uri": "https://localhost:8080/",
          "height": 577
        },
        "id": "lYQdfki5f1Bw",
        "outputId": "1616e007-0dd6-40d8-c67c-86a2ef2ae3c3"
      },
      "source": [
        "#Percentage change for rate of enrollment and graduation per year\n",
        "for i, col in enumerate(posted.columns):\n",
        "    posted[col].plot.bar(fig=plt.figure(i))\n",
        "    plt.title(col)\n",
        "\n",
        "plt.show()"
      ],
      "execution_count": null,
      "outputs": [
        {
          "output_type": "display_data",
          "data": {
            "image/png": "[encoded data removed]",
            "text/plain": [
              "<Figure size 432x288 with 1 Axes>"
            ]
          },
          "metadata": {
            "tags": [],
            "needs_background": "light"
          }
        },
        {
          "output_type": "display_data",
          "data": {
            "image/png": "[encoded data removed]",
            "text/plain": [
              "<Figure size 432x288 with 1 Axes>"
            ]
          },
          "metadata": {
            "tags": [],
            "needs_background": "light"
          }
        }
      ]
    },
    {
      "cell_type": "code",
      "metadata": {
        "colab": {
          "base_uri": "https://localhost:8080/",
          "height": 298
        },
        "id": "Ia-P_bR3faPn",
        "outputId": "739cd19e-6570-414e-d6a2-9b27d6f35a4a"
      },
      "source": [
        "status[['Canadian students','International Students']].plot.bar()"
      ],
      "execution_count": null,
      "outputs": [
        {
          "output_type": "execute_result",
          "data": {
            "text/plain": [
              "<matplotlib.axes._subplots.AxesSubplot at 0x7f3640eb4190>"
            ]
          },
          "metadata": {
            "tags": []
          },
          "execution_count": 32
        },
        {
          "output_type": "display_data",
          "data": {
            "image/png": "[encoded data removed]",
            "text/plain": [
              "<Figure size 432x288 with 1 Axes>"
            ]
          },
          "metadata": {
            "tags": [],
            "needs_background": "light"
          }
        }
      ]
    },
    {
      "cell_type": "markdown",
      "metadata": {
        "id": "6MTBgXngQiXU"
      },
      "source": [
        ""
      ]
    },
    {
      "cell_type": "code",
      "metadata": {
        "colab": {
          "base_uri": "https://localhost:8080/",
          "height": 297
        },
        "id": "z-ydPJHAf-nU",
        "outputId": "ed29836c-3c98-4d77-8bc0-dc654a32c332"
      },
      "source": [
        "status.describe(include='all').round(2)"
      ],
      "execution_count": null,
      "outputs": [
        {
          "output_type": "execute_result",
          "data": {
            "text/html": [
              "<div>\n",
              "<style scoped>\n",
              "    .dataframe tbody tr th:only-of-type {\n",
              "        vertical-align: middle;\n",
              "    }\n",
              "\n",
              "    .dataframe tbody tr th {\n",
              "        vertical-align: top;\n",
              "    }\n",
              "\n",
              "    .dataframe thead th {\n",
              "        text-align: right;\n",
              "    }\n",
              "</style>\n",
              "<table border=\"1\" class=\"dataframe\">\n",
              "  <thead>\n",
              "    <tr style=\"text-align: right;\">\n",
              "      <th>Row Labels</th>\n",
              "      <th>Canadian students</th>\n",
              "      <th>International Students</th>\n",
              "      <th>Not reported, status of student in Canada</th>\n",
              "    </tr>\n",
              "  </thead>\n",
              "  <tbody>\n",
              "    <tr>\n",
              "      <th>count</th>\n",
              "      <td>26.00</td>\n",
              "      <td>26.00</td>\n",
              "      <td>26.00</td>\n",
              "    </tr>\n",
              "    <tr>\n",
              "      <th>mean</th>\n",
              "      <td>0.02</td>\n",
              "      <td>0.09</td>\n",
              "      <td>0.15</td>\n",
              "    </tr>\n",
              "    <tr>\n",
              "      <th>std</th>\n",
              "      <td>0.07</td>\n",
              "      <td>0.09</td>\n",
              "      <td>0.74</td>\n",
              "    </tr>\n",
              "    <tr>\n",
              "      <th>min</th>\n",
              "      <td>-0.13</td>\n",
              "      <td>-0.05</td>\n",
              "      <td>-0.86</td>\n",
              "    </tr>\n",
              "    <tr>\n",
              "      <th>25%</th>\n",
              "      <td>-0.00</td>\n",
              "      <td>0.05</td>\n",
              "      <td>-0.19</td>\n",
              "    </tr>\n",
              "    <tr>\n",
              "      <th>50%</th>\n",
              "      <td>0.01</td>\n",
              "      <td>0.09</td>\n",
              "      <td>-0.03</td>\n",
              "    </tr>\n",
              "    <tr>\n",
              "      <th>75%</th>\n",
              "      <td>0.02</td>\n",
              "      <td>0.12</td>\n",
              "      <td>0.17</td>\n",
              "    </tr>\n",
              "    <tr>\n",
              "      <th>max</th>\n",
              "      <td>0.34</td>\n",
              "      <td>0.44</td>\n",
              "      <td>2.37</td>\n",
              "    </tr>\n",
              "  </tbody>\n",
              "</table>\n",
              "</div>"
            ],
            "text/plain": [
              "Row Labels  Canadian students  ...  Not reported, status of student in Canada\n",
              "count                   26.00  ...                                      26.00\n",
              "mean                     0.02  ...                                       0.15\n",
              "std                      0.07  ...                                       0.74\n",
              "min                     -0.13  ...                                      -0.86\n",
              "25%                     -0.00  ...                                      -0.19\n",
              "50%                      0.01  ...                                      -0.03\n",
              "75%                      0.02  ...                                       0.17\n",
              "max                      0.34  ...                                       2.37\n",
              "\n",
              "[8 rows x 3 columns]"
            ]
          },
          "metadata": {
            "tags": []
          },
          "execution_count": 34
        }
      ]
    },
    {
      "cell_type": "code",
      "metadata": {
        "colab": {
          "base_uri": "https://localhost:8080/",
          "height": 297
        },
        "id": "iJ74_52sHW_O",
        "outputId": "c83f6b77-a5e9-4198-a15b-007543ce2404"
      },
      "source": [
        "test = posted.describe(include='all')\n",
        "test.round(2)"
      ],
      "execution_count": null,
      "outputs": [
        {
          "output_type": "execute_result",
          "data": {
            "text/html": [
              "<div>\n",
              "<style scoped>\n",
              "    .dataframe tbody tr th:only-of-type {\n",
              "        vertical-align: middle;\n",
              "    }\n",
              "\n",
              "    .dataframe tbody tr th {\n",
              "        vertical-align: top;\n",
              "    }\n",
              "\n",
              "    .dataframe thead th {\n",
              "        text-align: right;\n",
              "    }\n",
              "</style>\n",
              "<table border=\"1\" class=\"dataframe\">\n",
              "  <thead>\n",
              "    <tr style=\"text-align: right;\">\n",
              "      <th>Row ID</th>\n",
              "      <th>Enrollment (Count)</th>\n",
              "      <th>Graduation (Count)</th>\n",
              "    </tr>\n",
              "  </thead>\n",
              "  <tbody>\n",
              "    <tr>\n",
              "      <th>count</th>\n",
              "      <td>26.00</td>\n",
              "      <td>26.00</td>\n",
              "    </tr>\n",
              "    <tr>\n",
              "      <th>mean</th>\n",
              "      <td>0.02</td>\n",
              "      <td>0.03</td>\n",
              "    </tr>\n",
              "    <tr>\n",
              "      <th>std</th>\n",
              "      <td>0.02</td>\n",
              "      <td>0.04</td>\n",
              "    </tr>\n",
              "    <tr>\n",
              "      <th>min</th>\n",
              "      <td>-0.01</td>\n",
              "      <td>-0.02</td>\n",
              "    </tr>\n",
              "    <tr>\n",
              "      <th>25%</th>\n",
              "      <td>0.00</td>\n",
              "      <td>0.02</td>\n",
              "    </tr>\n",
              "    <tr>\n",
              "      <th>50%</th>\n",
              "      <td>0.02</td>\n",
              "      <td>0.03</td>\n",
              "    </tr>\n",
              "    <tr>\n",
              "      <th>75%</th>\n",
              "      <td>0.02</td>\n",
              "      <td>0.05</td>\n",
              "    </tr>\n",
              "    <tr>\n",
              "      <th>max</th>\n",
              "      <td>0.07</td>\n",
              "      <td>0.20</td>\n",
              "    </tr>\n",
              "  </tbody>\n",
              "</table>\n",
              "</div>"
            ],
            "text/plain": [
              "Row ID  Enrollment (Count)  Graduation (Count)\n",
              "count                26.00               26.00\n",
              "mean                  0.02                0.03\n",
              "std                   0.02                0.04\n",
              "min                  -0.01               -0.02\n",
              "25%                   0.00                0.02\n",
              "50%                   0.02                0.03\n",
              "75%                   0.02                0.05\n",
              "max                   0.07                0.20"
            ]
          },
          "metadata": {
            "tags": []
          },
          "execution_count": 24
        }
      ]
    },
    {
      "cell_type": "code",
      "metadata": {
        "id": "PyB4Cm7SSGOG"
      },
      "source": [
        ""
      ],
      "execution_count": null,
      "outputs": []
    },
    {
      "cell_type": "code",
      "metadata": {
        "id": "aHL4O2_hSGQ3"
      },
      "source": [
        ""
      ],
      "execution_count": null,
      "outputs": []
    },
    {
      "cell_type": "code",
      "metadata": {
        "id": "LcQk1wzqSGS4"
      },
      "source": [
        ""
      ],
      "execution_count": null,
      "outputs": []
    },
    {
      "cell_type": "code",
      "metadata": {
        "id": "8T98edeBSGVh"
      },
      "source": [
        ""
      ],
      "execution_count": null,
      "outputs": []
    }
  ]
}